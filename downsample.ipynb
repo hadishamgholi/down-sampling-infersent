{
 "cells": [
  {
   "cell_type": "code",
   "execution_count": 17,
   "metadata": {},
   "outputs": [],
   "source": [
    "import numpy as np\n",
    "import os"
   ]
  },
  {
   "cell_type": "code",
   "execution_count": 25,
   "metadata": {},
   "outputs": [],
   "source": [
    "s1 = '/s1.train'\n",
    "s2 = '/s2.train'"
   ]
  },
  {
   "cell_type": "code",
   "execution_count": 56,
   "metadata": {},
   "outputs": [],
   "source": [
    "def calc_commonality(s1, s2):\n",
    "    c = 0\n",
    "    for i, w in enumerate(s1):\n",
    "        if w in s2:\n",
    "            c+=1\n",
    "    return c / float(len(s1))"
   ]
  },
  {
   "cell_type": "code",
   "execution_count": 57,
   "metadata": {},
   "outputs": [
    {
     "name": "stdout",
     "output_type": "stream",
     "text": [
      "0.5384615384615384\n"
     ]
    }
   ],
   "source": [
    "s11 = 'A person on a horse jumps over a broken down airplane . '.split(' ')\n",
    "s22 = 'A person is training his horse for a competition . '.split(' ')\n",
    "print(calc_commonality(s11, s22))"
   ]
  },
  {
   "cell_type": "code",
   "execution_count": 58,
   "metadata": {},
   "outputs": [],
   "source": [
    "with open(os.getcwd()+s1,'r') as f1,open(os.getcwd() + s2,'r') as f2,open(os.getcwd() + '/com','w') as writer:\n",
    "    for sen1, sen2 in zip(s1s, s2s):\n",
    "        c = calc_commonality(sen1.split(' '), sen2.split(' '))\n",
    "        writer.write(str(c) + os.linesep)\n",
    "        "
   ]
  },
  {
   "cell_type": "code",
   "execution_count": 59,
   "metadata": {},
   "outputs": [],
   "source": [
    "class Pair:\n",
    "    def __init__(self, i,s1,s2):\n",
    "        self.i = i\n",
    "        self.s1 = s1\n",
    "        self.s2 = s2"
   ]
  },
  {
   "cell_type": "code",
   "execution_count": 72,
   "metadata": {},
   "outputs": [
    {
     "name": "stdout",
     "output_type": "stream",
     "text": [
      "The boy with the blue helmet is playing with other boy . \n",
      "\n"
     ]
    }
   ],
   "source": [
    "objects = []\n",
    "with open('./com', 'r') as com, open('./s1.train', 'r') as f1, open('./s2.train', 'r') as f2:\n",
    "    for i, one, two in zip(com, f1, f2):\n",
    "        objects.append(Pair(float(i), one, two))\n",
    "    \n",
    "    objects.sort(key= lambda x: x.i, reverse=False)\n",
    "    \n",
    "    for i in range(50000,50001):\n",
    "        print(objects[i].s1)"
   ]
  },
  {
   "cell_type": "code",
   "execution_count": 70,
   "metadata": {},
   "outputs": [],
   "source": [
    "s1_new = './s1_new.train'\n",
    "s2_new = './s2_new.train'"
   ]
  },
  {
   "cell_type": "code",
   "execution_count": 73,
   "metadata": {},
   "outputs": [],
   "source": [
    "with open(s1_new, 'w') as f1, open(s2_new, 'w') as f2:\n",
    "    for o in objects:\n",
    "        f1.write(o.s1 + os.linesep)\n",
    "        f2.write(o.s2 + os.linesep)"
   ]
  },
  {
   "cell_type": "code",
   "execution_count": null,
   "metadata": {},
   "outputs": [],
   "source": []
  }
 ],
 "metadata": {
  "kernelspec": {
   "display_name": "Python 3",
   "language": "python",
   "name": "python3"
  },
  "language_info": {
   "codemirror_mode": {
    "name": "ipython",
    "version": 3
   },
   "file_extension": ".py",
   "mimetype": "text/x-python",
   "name": "python",
   "nbconvert_exporter": "python",
   "pygments_lexer": "ipython3",
   "version": "3.6.7"
  }
 },
 "nbformat": 4,
 "nbformat_minor": 2
}
